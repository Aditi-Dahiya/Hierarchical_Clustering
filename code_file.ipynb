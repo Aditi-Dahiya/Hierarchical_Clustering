{
 "cells": [
  {
   "cell_type": "markdown",
   "id": "5d00ae28",
   "metadata": {},
   "source": [
    "# HIERARCHICAL CLUSTERING"
   ]
  },
  {
   "cell_type": "code",
   "execution_count": 13,
   "id": "8376a059",
   "metadata": {},
   "outputs": [],
   "source": [
    "# Import libraries\n",
    "import pandas as pd # for reading csv file and convert to dataframe\n",
    "import matplotlib.pyplot as plt # for plotting purpose\n",
    "import numpy as np"
   ]
  },
  {
   "cell_type": "code",
   "execution_count": 14,
   "id": "e1c9075f",
   "metadata": {},
   "outputs": [],
   "source": [
    "# Import dataset\n",
    "dataset = pd.read_csv(\"Mall_Customers.csv\")"
   ]
  },
  {
   "cell_type": "code",
   "execution_count": 15,
   "id": "f68297b1",
   "metadata": {},
   "outputs": [
    {
     "data": {
      "text/html": [
       "<div>\n",
       "<style scoped>\n",
       "    .dataframe tbody tr th:only-of-type {\n",
       "        vertical-align: middle;\n",
       "    }\n",
       "\n",
       "    .dataframe tbody tr th {\n",
       "        vertical-align: top;\n",
       "    }\n",
       "\n",
       "    .dataframe thead th {\n",
       "        text-align: right;\n",
       "    }\n",
       "</style>\n",
       "<table border=\"1\" class=\"dataframe\">\n",
       "  <thead>\n",
       "    <tr style=\"text-align: right;\">\n",
       "      <th></th>\n",
       "      <th>CustomerID</th>\n",
       "      <th>Gender</th>\n",
       "      <th>Age</th>\n",
       "      <th>Annual Income (k$)</th>\n",
       "      <th>Spending Score (1-100)</th>\n",
       "    </tr>\n",
       "  </thead>\n",
       "  <tbody>\n",
       "    <tr>\n",
       "      <th>0</th>\n",
       "      <td>1</td>\n",
       "      <td>Male</td>\n",
       "      <td>19</td>\n",
       "      <td>15</td>\n",
       "      <td>39</td>\n",
       "    </tr>\n",
       "    <tr>\n",
       "      <th>1</th>\n",
       "      <td>2</td>\n",
       "      <td>Male</td>\n",
       "      <td>21</td>\n",
       "      <td>15</td>\n",
       "      <td>81</td>\n",
       "    </tr>\n",
       "    <tr>\n",
       "      <th>2</th>\n",
       "      <td>3</td>\n",
       "      <td>Female</td>\n",
       "      <td>20</td>\n",
       "      <td>16</td>\n",
       "      <td>6</td>\n",
       "    </tr>\n",
       "    <tr>\n",
       "      <th>3</th>\n",
       "      <td>4</td>\n",
       "      <td>Female</td>\n",
       "      <td>23</td>\n",
       "      <td>16</td>\n",
       "      <td>77</td>\n",
       "    </tr>\n",
       "    <tr>\n",
       "      <th>4</th>\n",
       "      <td>5</td>\n",
       "      <td>Female</td>\n",
       "      <td>31</td>\n",
       "      <td>17</td>\n",
       "      <td>40</td>\n",
       "    </tr>\n",
       "  </tbody>\n",
       "</table>\n",
       "</div>"
      ],
      "text/plain": [
       "   CustomerID  Gender  Age  Annual Income (k$)  Spending Score (1-100)\n",
       "0           1    Male   19                  15                      39\n",
       "1           2    Male   21                  15                      81\n",
       "2           3  Female   20                  16                       6\n",
       "3           4  Female   23                  16                      77\n",
       "4           5  Female   31                  17                      40"
      ]
     },
     "execution_count": 15,
     "metadata": {},
     "output_type": "execute_result"
    }
   ],
   "source": [
    "dataset.head()"
   ]
  },
  {
   "cell_type": "code",
   "execution_count": 25,
   "id": "ed9a2647",
   "metadata": {},
   "outputs": [],
   "source": [
    "dataset = dataset.drop([\"Gender\"], axis=1)"
   ]
  },
  {
   "cell_type": "code",
   "execution_count": 26,
   "id": "fa68d3c6",
   "metadata": {},
   "outputs": [
    {
     "data": {
      "text/html": [
       "<div>\n",
       "<style scoped>\n",
       "    .dataframe tbody tr th:only-of-type {\n",
       "        vertical-align: middle;\n",
       "    }\n",
       "\n",
       "    .dataframe tbody tr th {\n",
       "        vertical-align: top;\n",
       "    }\n",
       "\n",
       "    .dataframe thead th {\n",
       "        text-align: right;\n",
       "    }\n",
       "</style>\n",
       "<table border=\"1\" class=\"dataframe\">\n",
       "  <thead>\n",
       "    <tr style=\"text-align: right;\">\n",
       "      <th></th>\n",
       "      <th>CustomerID</th>\n",
       "      <th>Age</th>\n",
       "      <th>Annual Income (k$)</th>\n",
       "      <th>Spending Score (1-100)</th>\n",
       "    </tr>\n",
       "  </thead>\n",
       "  <tbody>\n",
       "    <tr>\n",
       "      <th>0</th>\n",
       "      <td>1</td>\n",
       "      <td>19</td>\n",
       "      <td>15</td>\n",
       "      <td>39</td>\n",
       "    </tr>\n",
       "    <tr>\n",
       "      <th>1</th>\n",
       "      <td>2</td>\n",
       "      <td>21</td>\n",
       "      <td>15</td>\n",
       "      <td>81</td>\n",
       "    </tr>\n",
       "    <tr>\n",
       "      <th>2</th>\n",
       "      <td>3</td>\n",
       "      <td>20</td>\n",
       "      <td>16</td>\n",
       "      <td>6</td>\n",
       "    </tr>\n",
       "    <tr>\n",
       "      <th>3</th>\n",
       "      <td>4</td>\n",
       "      <td>23</td>\n",
       "      <td>16</td>\n",
       "      <td>77</td>\n",
       "    </tr>\n",
       "    <tr>\n",
       "      <th>4</th>\n",
       "      <td>5</td>\n",
       "      <td>31</td>\n",
       "      <td>17</td>\n",
       "      <td>40</td>\n",
       "    </tr>\n",
       "  </tbody>\n",
       "</table>\n",
       "</div>"
      ],
      "text/plain": [
       "   CustomerID  Age  Annual Income (k$)  Spending Score (1-100)\n",
       "0           1   19                  15                      39\n",
       "1           2   21                  15                      81\n",
       "2           3   20                  16                       6\n",
       "3           4   23                  16                      77\n",
       "4           5   31                  17                      40"
      ]
     },
     "execution_count": 26,
     "metadata": {},
     "output_type": "execute_result"
    }
   ],
   "source": [
    "dataset.head()"
   ]
  },
  {
   "cell_type": "code",
   "execution_count": 27,
   "id": "4283514c",
   "metadata": {},
   "outputs": [],
   "source": [
    "X = dataset.iloc[:, :].values # to store all values in X"
   ]
  },
  {
   "cell_type": "code",
   "execution_count": 28,
   "id": "3be398b4",
   "metadata": {},
   "outputs": [
    {
     "data": {
      "text/plain": [
       "array([[  1,  19,  15,  39],\n",
       "       [  2,  21,  15,  81],\n",
       "       [  3,  20,  16,   6],\n",
       "       [  4,  23,  16,  77],\n",
       "       [  5,  31,  17,  40],\n",
       "       [  6,  22,  17,  76],\n",
       "       [  7,  35,  18,   6],\n",
       "       [  8,  23,  18,  94],\n",
       "       [  9,  64,  19,   3],\n",
       "       [ 10,  30,  19,  72],\n",
       "       [ 11,  67,  19,  14],\n",
       "       [ 12,  35,  19,  99],\n",
       "       [ 13,  58,  20,  15],\n",
       "       [ 14,  24,  20,  77],\n",
       "       [ 15,  37,  20,  13],\n",
       "       [ 16,  22,  20,  79],\n",
       "       [ 17,  35,  21,  35],\n",
       "       [ 18,  20,  21,  66],\n",
       "       [ 19,  52,  23,  29],\n",
       "       [ 20,  35,  23,  98],\n",
       "       [ 21,  35,  24,  35],\n",
       "       [ 22,  25,  24,  73],\n",
       "       [ 23,  46,  25,   5],\n",
       "       [ 24,  31,  25,  73],\n",
       "       [ 25,  54,  28,  14],\n",
       "       [ 26,  29,  28,  82],\n",
       "       [ 27,  45,  28,  32],\n",
       "       [ 28,  35,  28,  61],\n",
       "       [ 29,  40,  29,  31],\n",
       "       [ 30,  23,  29,  87],\n",
       "       [ 31,  60,  30,   4],\n",
       "       [ 32,  21,  30,  73],\n",
       "       [ 33,  53,  33,   4],\n",
       "       [ 34,  18,  33,  92],\n",
       "       [ 35,  49,  33,  14],\n",
       "       [ 36,  21,  33,  81],\n",
       "       [ 37,  42,  34,  17],\n",
       "       [ 38,  30,  34,  73],\n",
       "       [ 39,  36,  37,  26],\n",
       "       [ 40,  20,  37,  75],\n",
       "       [ 41,  65,  38,  35],\n",
       "       [ 42,  24,  38,  92],\n",
       "       [ 43,  48,  39,  36],\n",
       "       [ 44,  31,  39,  61],\n",
       "       [ 45,  49,  39,  28],\n",
       "       [ 46,  24,  39,  65],\n",
       "       [ 47,  50,  40,  55],\n",
       "       [ 48,  27,  40,  47],\n",
       "       [ 49,  29,  40,  42],\n",
       "       [ 50,  31,  40,  42],\n",
       "       [ 51,  49,  42,  52],\n",
       "       [ 52,  33,  42,  60],\n",
       "       [ 53,  31,  43,  54],\n",
       "       [ 54,  59,  43,  60],\n",
       "       [ 55,  50,  43,  45],\n",
       "       [ 56,  47,  43,  41],\n",
       "       [ 57,  51,  44,  50],\n",
       "       [ 58,  69,  44,  46],\n",
       "       [ 59,  27,  46,  51],\n",
       "       [ 60,  53,  46,  46],\n",
       "       [ 61,  70,  46,  56],\n",
       "       [ 62,  19,  46,  55],\n",
       "       [ 63,  67,  47,  52],\n",
       "       [ 64,  54,  47,  59],\n",
       "       [ 65,  63,  48,  51],\n",
       "       [ 66,  18,  48,  59],\n",
       "       [ 67,  43,  48,  50],\n",
       "       [ 68,  68,  48,  48],\n",
       "       [ 69,  19,  48,  59],\n",
       "       [ 70,  32,  48,  47],\n",
       "       [ 71,  70,  49,  55],\n",
       "       [ 72,  47,  49,  42],\n",
       "       [ 73,  60,  50,  49],\n",
       "       [ 74,  60,  50,  56],\n",
       "       [ 75,  59,  54,  47],\n",
       "       [ 76,  26,  54,  54],\n",
       "       [ 77,  45,  54,  53],\n",
       "       [ 78,  40,  54,  48],\n",
       "       [ 79,  23,  54,  52],\n",
       "       [ 80,  49,  54,  42],\n",
       "       [ 81,  57,  54,  51],\n",
       "       [ 82,  38,  54,  55],\n",
       "       [ 83,  67,  54,  41],\n",
       "       [ 84,  46,  54,  44],\n",
       "       [ 85,  21,  54,  57],\n",
       "       [ 86,  48,  54,  46],\n",
       "       [ 87,  55,  57,  58],\n",
       "       [ 88,  22,  57,  55],\n",
       "       [ 89,  34,  58,  60],\n",
       "       [ 90,  50,  58,  46],\n",
       "       [ 91,  68,  59,  55],\n",
       "       [ 92,  18,  59,  41],\n",
       "       [ 93,  48,  60,  49],\n",
       "       [ 94,  40,  60,  40],\n",
       "       [ 95,  32,  60,  42],\n",
       "       [ 96,  24,  60,  52],\n",
       "       [ 97,  47,  60,  47],\n",
       "       [ 98,  27,  60,  50],\n",
       "       [ 99,  48,  61,  42],\n",
       "       [100,  20,  61,  49],\n",
       "       [101,  23,  62,  41],\n",
       "       [102,  49,  62,  48],\n",
       "       [103,  67,  62,  59],\n",
       "       [104,  26,  62,  55],\n",
       "       [105,  49,  62,  56],\n",
       "       [106,  21,  62,  42],\n",
       "       [107,  66,  63,  50],\n",
       "       [108,  54,  63,  46],\n",
       "       [109,  68,  63,  43],\n",
       "       [110,  66,  63,  48],\n",
       "       [111,  65,  63,  52],\n",
       "       [112,  19,  63,  54],\n",
       "       [113,  38,  64,  42],\n",
       "       [114,  19,  64,  46],\n",
       "       [115,  18,  65,  48],\n",
       "       [116,  19,  65,  50],\n",
       "       [117,  63,  65,  43],\n",
       "       [118,  49,  65,  59],\n",
       "       [119,  51,  67,  43],\n",
       "       [120,  50,  67,  57],\n",
       "       [121,  27,  67,  56],\n",
       "       [122,  38,  67,  40],\n",
       "       [123,  40,  69,  58],\n",
       "       [124,  39,  69,  91],\n",
       "       [125,  23,  70,  29],\n",
       "       [126,  31,  70,  77],\n",
       "       [127,  43,  71,  35],\n",
       "       [128,  40,  71,  95],\n",
       "       [129,  59,  71,  11],\n",
       "       [130,  38,  71,  75],\n",
       "       [131,  47,  71,   9],\n",
       "       [132,  39,  71,  75],\n",
       "       [133,  25,  72,  34],\n",
       "       [134,  31,  72,  71],\n",
       "       [135,  20,  73,   5],\n",
       "       [136,  29,  73,  88],\n",
       "       [137,  44,  73,   7],\n",
       "       [138,  32,  73,  73],\n",
       "       [139,  19,  74,  10],\n",
       "       [140,  35,  74,  72],\n",
       "       [141,  57,  75,   5],\n",
       "       [142,  32,  75,  93],\n",
       "       [143,  28,  76,  40],\n",
       "       [144,  32,  76,  87],\n",
       "       [145,  25,  77,  12],\n",
       "       [146,  28,  77,  97],\n",
       "       [147,  48,  77,  36],\n",
       "       [148,  32,  77,  74],\n",
       "       [149,  34,  78,  22],\n",
       "       [150,  34,  78,  90],\n",
       "       [151,  43,  78,  17],\n",
       "       [152,  39,  78,  88],\n",
       "       [153,  44,  78,  20],\n",
       "       [154,  38,  78,  76],\n",
       "       [155,  47,  78,  16],\n",
       "       [156,  27,  78,  89],\n",
       "       [157,  37,  78,   1],\n",
       "       [158,  30,  78,  78],\n",
       "       [159,  34,  78,   1],\n",
       "       [160,  30,  78,  73],\n",
       "       [161,  56,  79,  35],\n",
       "       [162,  29,  79,  83],\n",
       "       [163,  19,  81,   5],\n",
       "       [164,  31,  81,  93],\n",
       "       [165,  50,  85,  26],\n",
       "       [166,  36,  85,  75],\n",
       "       [167,  42,  86,  20],\n",
       "       [168,  33,  86,  95],\n",
       "       [169,  36,  87,  27],\n",
       "       [170,  32,  87,  63],\n",
       "       [171,  40,  87,  13],\n",
       "       [172,  28,  87,  75],\n",
       "       [173,  36,  87,  10],\n",
       "       [174,  36,  87,  92],\n",
       "       [175,  52,  88,  13],\n",
       "       [176,  30,  88,  86],\n",
       "       [177,  58,  88,  15],\n",
       "       [178,  27,  88,  69],\n",
       "       [179,  59,  93,  14],\n",
       "       [180,  35,  93,  90],\n",
       "       [181,  37,  97,  32],\n",
       "       [182,  32,  97,  86],\n",
       "       [183,  46,  98,  15],\n",
       "       [184,  29,  98,  88],\n",
       "       [185,  41,  99,  39],\n",
       "       [186,  30,  99,  97],\n",
       "       [187,  54, 101,  24],\n",
       "       [188,  28, 101,  68],\n",
       "       [189,  41, 103,  17],\n",
       "       [190,  36, 103,  85],\n",
       "       [191,  34, 103,  23],\n",
       "       [192,  32, 103,  69],\n",
       "       [193,  33, 113,   8],\n",
       "       [194,  38, 113,  91],\n",
       "       [195,  47, 120,  16],\n",
       "       [196,  35, 120,  79],\n",
       "       [197,  45, 126,  28],\n",
       "       [198,  32, 126,  74],\n",
       "       [199,  32, 137,  18],\n",
       "       [200,  30, 137,  83]])"
      ]
     },
     "execution_count": 28,
     "metadata": {},
     "output_type": "execute_result"
    }
   ],
   "source": [
    "X"
   ]
  },
  {
   "cell_type": "code",
   "execution_count": 29,
   "id": "edd4b59a",
   "metadata": {},
   "outputs": [],
   "source": [
    "# To check how many clusters we need\n",
    "# Dendrogram - to find optimal number of clusters\n",
    "import scipy.cluster.hierarchy as sch"
   ]
  },
  {
   "cell_type": "code",
   "execution_count": 30,
   "id": "ac2810c0",
   "metadata": {},
   "outputs": [
    {
     "data": {
      "image/png": "[encoded data removed]",
      "text/plain": [
       "<Figure size 640x480 with 1 Axes>"
      ]
     },
     "metadata": {},
     "output_type": "display_data"
    }
   ],
   "source": [
    "dendrogram = sch.dendrogram(sch.linkage(X))\n",
    "plt.title(\"DENDROGRAM\")\n",
    "plt.xlabel(\"Customers\")\n",
    "plt.ylabel(\"Euclidean Distance\")\n",
    "plt.show()"
   ]
  },
  {
   "cell_type": "markdown",
   "id": "c5d9e08a",
   "metadata": {},
   "source": [
    "# TRAINING THE MODEL"
   ]
  },
  {
   "cell_type": "code",
   "execution_count": 31,
   "id": "a61bce72",
   "metadata": {},
   "outputs": [
    {
     "data": {
      "text/plain": [
       "array([1, 1, 1, 1, 1, 1, 1, 1, 1, 1, 1, 1, 1, 1, 1, 1, 1, 1, 1, 1, 1, 1,\n",
       "       1, 1, 1, 1, 1, 1, 1, 1, 1, 1, 1, 1, 1, 1, 1, 1, 1, 1, 1, 1, 1, 1,\n",
       "       1, 1, 1, 1, 1, 1, 1, 1, 1, 1, 1, 1, 1, 1, 1, 1, 1, 2, 1, 1, 1, 2,\n",
       "       2, 1, 2, 2, 1, 2, 1, 1, 1, 2, 2, 2, 2, 2, 1, 2, 1, 2, 2, 2, 2, 2,\n",
       "       2, 2, 2, 2, 2, 2, 2, 2, 2, 2, 2, 2, 2, 2, 2, 2, 2, 2, 2, 2, 2, 2,\n",
       "       2, 2, 2, 2, 2, 2, 2, 2, 2, 2, 2, 2, 2, 0, 0, 0, 2, 0, 0, 0, 0, 0,\n",
       "       0, 0, 0, 0, 0, 0, 0, 0, 0, 0, 0, 0, 0, 0, 0, 0, 0, 0, 0, 0, 0, 0,\n",
       "       0, 0, 0, 0, 0, 0, 0, 0, 0, 0, 0, 0, 0, 0, 0, 0, 0, 0, 0, 0, 0, 0,\n",
       "       0, 0, 0, 0, 0, 0, 0, 0, 0, 0, 0, 0, 0, 0, 0, 0, 0, 0, 0, 0, 0, 0,\n",
       "       0, 0])"
      ]
     },
     "execution_count": 31,
     "metadata": {},
     "output_type": "execute_result"
    }
   ],
   "source": [
    "from sklearn.cluster import AgglomerativeClustering\n",
    "clustering = AgglomerativeClustering(n_clusters = 3)\n",
    "y_hc = clustering.fit_predict(X)\n",
    "y_hc"
   ]
  },
  {
   "cell_type": "markdown",
   "id": "b1fa84b7",
   "metadata": {},
   "source": [
    "# VISUALISING THE CLUSTERS"
   ]
  },
  {
   "cell_type": "code",
   "execution_count": 34,
   "id": "c9c4d7c4",
   "metadata": {},
   "outputs": [
    {
     "data": {
      "image/png": "[encoded data removed]",
      "text/plain": [
       "<Figure size 640x480 with 1 Axes>"
      ]
     },
     "metadata": {},
     "output_type": "display_data"
    }
   ],
   "source": [
    "plt.scatter(X[y_hc == 0, 0], X[y_hc == 0, 1], c = 'red', label='Cluster 1')\n",
    "plt.scatter(X[y_hc == 1, 0], X[y_hc == 1, 1], c = 'green', label='Cluster 2')\n",
    "plt.scatter(X[y_hc == 2, 0], X[y_hc == 2, 1], c = 'blue', label='Cluster 3')\n",
    "plt.title(\"Cluster of Customers\")\n",
    "plt.xlabel(\"Annual Income (k$)\")\n",
    "plt.ylabel(\"Spending Score (1-100)\")\n",
    "plt.legend()\n",
    "plt.show()"
   ]
  }
 ],
 "metadata": {
  "kernelspec": {
   "display_name": "Python 3 (ipykernel)",
   "language": "python",
   "name": "python3"
  },
  "language_info": {
   "codemirror_mode": {
    "name": "ipython",
    "version": 3
   },
   "file_extension": ".py",
   "mimetype": "text/x-python",
   "name": "python",
   "nbconvert_exporter": "python",
   "pygments_lexer": "ipython3",
   "version": "3.9.13"
  }
 },
 "nbformat": 4,
 "nbformat_minor": 5
}
